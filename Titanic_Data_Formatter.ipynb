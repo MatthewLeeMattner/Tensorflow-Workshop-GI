{
 "cells": [
  {
   "cell_type": "markdown",
   "metadata": {},
   "source": [
    "# Titanic Dataset\n",
    "Neural networks are not just great at images, they can handle all kinds of data. An alternative way to think of them are as *universal function approximators*, because they can take any kind of data and approximate a prediction.\n",
    "\n",
    "They're not magic though (yet) so we still need to make sure the data is in the correct format for the neural network to use.\n",
    "\n",
    "We found this dataset on <a href=\"https://www.kaggle.com/c/titanic\">kaggle.com</a>.\n",
    "\n",
    "### Data Dictionary\n",
    "\n",
    "**Variable\tDefinition\tKey**\n",
    "- survival\tSurvival\t0 = No, 1 = Yes\n",
    "- pclass\tTicket class\t1 = 1st, 2 = 2nd, 3 = 3rd\n",
    "- sex\tSex\t\n",
    "- Age\tAge in years\t\n",
    "- sibsp\t# of siblings / spouses aboard the Titanic\t\n",
    "- parch\t# of parents / children aboard the Titanic\t\n",
    "- ticket\tTicket number\t\n",
    "- fare\tPassenger fare\t\n",
    "- cabin\tCabin number\t\n",
    "- embarked\tPort of Embarkation\tC = Cherbourg, Q = Queenstown, S = Southampton\n",
    "- Variable Notes\n",
    "\n",
    "**pclass: A proxy for socio-economic status (SES)**\n",
    "1st = Upper\n",
    "2nd = Middle\n",
    "3rd = Lower\n",
    "\n",
    "**age**: Age is fractional if less than 1\n",
    "\n",
    "**sibsp: The dataset defines family relations in this way...**\n",
    "Sibling = brother, sister, stepbrother, stepsister\n",
    "Spouse = husband, wife (mistresses and fiancés were ignored)\n",
    "\n",
    "**parch: The dataset defines family relations in this way...**\n",
    "Parent = mother, father\n",
    "Child = daughter, son, stepdaughter, stepson\n",
    "Some children travelled only with a nanny, therefore parch=0 for them."
   ]
  },
  {
   "cell_type": "markdown",
   "metadata": {},
   "source": [
    "## Let's get started\n",
    "\n",
    "First thing we need to do is import our dataset from the downloaded csv files. We're going to be using the Pandas library for this because it will store it in a formatted dataframe (similar to the format of the spreadsheet itself).\n",
    "\n",
    "Pandas can do some really impressive stuff as we'll see further down to help us manipulate our data."
   ]
  },
  {
   "cell_type": "code",
   "execution_count": 78,
   "metadata": {},
   "outputs": [
    {
     "data": {
      "text/html": [
       "<div>\n",
       "<style>\n",
       "    .dataframe thead tr:only-child th {\n",
       "        text-align: right;\n",
       "    }\n",
       "\n",
       "    .dataframe thead th {\n",
       "        text-align: left;\n",
       "    }\n",
       "\n",
       "    .dataframe tbody tr th {\n",
       "        vertical-align: top;\n",
       "    }\n",
       "</style>\n",
       "<table border=\"1\" class=\"dataframe\">\n",
       "  <thead>\n",
       "    <tr style=\"text-align: right;\">\n",
       "      <th></th>\n",
       "      <th>PassengerId</th>\n",
       "      <th>Survived</th>\n",
       "      <th>Pclass</th>\n",
       "      <th>Name</th>\n",
       "      <th>Sex</th>\n",
       "      <th>Age</th>\n",
       "      <th>SibSp</th>\n",
       "      <th>Parch</th>\n",
       "      <th>Ticket</th>\n",
       "      <th>Fare</th>\n",
       "      <th>Cabin</th>\n",
       "      <th>Embarked</th>\n",
       "    </tr>\n",
       "  </thead>\n",
       "  <tbody>\n",
       "    <tr>\n",
       "      <th>0</th>\n",
       "      <td>1</td>\n",
       "      <td>0</td>\n",
       "      <td>3</td>\n",
       "      <td>Braund, Mr. Owen Harris</td>\n",
       "      <td>male</td>\n",
       "      <td>22.0</td>\n",
       "      <td>1</td>\n",
       "      <td>0</td>\n",
       "      <td>A/5 21171</td>\n",
       "      <td>7.2500</td>\n",
       "      <td>NaN</td>\n",
       "      <td>S</td>\n",
       "    </tr>\n",
       "    <tr>\n",
       "      <th>1</th>\n",
       "      <td>2</td>\n",
       "      <td>1</td>\n",
       "      <td>1</td>\n",
       "      <td>Cumings, Mrs. John Bradley (Florence Briggs Th...</td>\n",
       "      <td>female</td>\n",
       "      <td>38.0</td>\n",
       "      <td>1</td>\n",
       "      <td>0</td>\n",
       "      <td>PC 17599</td>\n",
       "      <td>71.2833</td>\n",
       "      <td>C85</td>\n",
       "      <td>C</td>\n",
       "    </tr>\n",
       "    <tr>\n",
       "      <th>2</th>\n",
       "      <td>3</td>\n",
       "      <td>1</td>\n",
       "      <td>3</td>\n",
       "      <td>Heikkinen, Miss. Laina</td>\n",
       "      <td>female</td>\n",
       "      <td>26.0</td>\n",
       "      <td>0</td>\n",
       "      <td>0</td>\n",
       "      <td>STON/O2. 3101282</td>\n",
       "      <td>7.9250</td>\n",
       "      <td>NaN</td>\n",
       "      <td>S</td>\n",
       "    </tr>\n",
       "    <tr>\n",
       "      <th>3</th>\n",
       "      <td>4</td>\n",
       "      <td>1</td>\n",
       "      <td>1</td>\n",
       "      <td>Futrelle, Mrs. Jacques Heath (Lily May Peel)</td>\n",
       "      <td>female</td>\n",
       "      <td>35.0</td>\n",
       "      <td>1</td>\n",
       "      <td>0</td>\n",
       "      <td>113803</td>\n",
       "      <td>53.1000</td>\n",
       "      <td>C123</td>\n",
       "      <td>S</td>\n",
       "    </tr>\n",
       "    <tr>\n",
       "      <th>4</th>\n",
       "      <td>5</td>\n",
       "      <td>0</td>\n",
       "      <td>3</td>\n",
       "      <td>Allen, Mr. William Henry</td>\n",
       "      <td>male</td>\n",
       "      <td>35.0</td>\n",
       "      <td>0</td>\n",
       "      <td>0</td>\n",
       "      <td>373450</td>\n",
       "      <td>8.0500</td>\n",
       "      <td>NaN</td>\n",
       "      <td>S</td>\n",
       "    </tr>\n",
       "  </tbody>\n",
       "</table>\n",
       "</div>"
      ],
      "text/plain": [
       "   PassengerId  Survived  Pclass  \\\n",
       "0            1         0       3   \n",
       "1            2         1       1   \n",
       "2            3         1       3   \n",
       "3            4         1       1   \n",
       "4            5         0       3   \n",
       "\n",
       "                                                Name     Sex   Age  SibSp  \\\n",
       "0                            Braund, Mr. Owen Harris    male  22.0      1   \n",
       "1  Cumings, Mrs. John Bradley (Florence Briggs Th...  female  38.0      1   \n",
       "2                             Heikkinen, Miss. Laina  female  26.0      0   \n",
       "3       Futrelle, Mrs. Jacques Heath (Lily May Peel)  female  35.0      1   \n",
       "4                           Allen, Mr. William Henry    male  35.0      0   \n",
       "\n",
       "   Parch            Ticket     Fare Cabin Embarked  \n",
       "0      0         A/5 21171   7.2500   NaN        S  \n",
       "1      0          PC 17599  71.2833   C85        C  \n",
       "2      0  STON/O2. 3101282   7.9250   NaN        S  \n",
       "3      0            113803  53.1000  C123        S  \n",
       "4      0            373450   8.0500   NaN        S  "
      ]
     },
     "execution_count": 78,
     "metadata": {},
     "output_type": "execute_result"
    }
   ],
   "source": [
    "import pandas as pd\n",
    "import numpy as np\n",
    "import matplotlib.pyplot as plt\n",
    "from sklearn.cross_validation import train_test_split\n",
    "\n",
    "data_loc = \"data/titanic/\"\n",
    "titanic = pd.read_csv(data_loc + \"titanic.csv\")\n",
    "\n",
    "titanic.head()"
   ]
  },
  {
   "cell_type": "markdown",
   "metadata": {},
   "source": [
    "## Raw information\n",
    "It can be really helpful to get an idea of what our data looks like before we start messing with it. Above you can see the first 5 rows using *.head()* on our dataframe. Below we can see further details of each column (such as the min and max value) using *.describe()*"
   ]
  },
  {
   "cell_type": "code",
   "execution_count": 5,
   "metadata": {
    "scrolled": true
   },
   "outputs": [
    {
     "data": {
      "text/html": [
       "<div>\n",
       "<style>\n",
       "    .dataframe thead tr:only-child th {\n",
       "        text-align: right;\n",
       "    }\n",
       "\n",
       "    .dataframe thead th {\n",
       "        text-align: left;\n",
       "    }\n",
       "\n",
       "    .dataframe tbody tr th {\n",
       "        vertical-align: top;\n",
       "    }\n",
       "</style>\n",
       "<table border=\"1\" class=\"dataframe\">\n",
       "  <thead>\n",
       "    <tr style=\"text-align: right;\">\n",
       "      <th></th>\n",
       "      <th>PassengerId</th>\n",
       "      <th>Survived</th>\n",
       "      <th>Pclass</th>\n",
       "      <th>Age</th>\n",
       "      <th>SibSp</th>\n",
       "      <th>Parch</th>\n",
       "      <th>Fare</th>\n",
       "    </tr>\n",
       "  </thead>\n",
       "  <tbody>\n",
       "    <tr>\n",
       "      <th>count</th>\n",
       "      <td>891.000000</td>\n",
       "      <td>891.000000</td>\n",
       "      <td>891.000000</td>\n",
       "      <td>714.000000</td>\n",
       "      <td>891.000000</td>\n",
       "      <td>891.000000</td>\n",
       "      <td>891.000000</td>\n",
       "    </tr>\n",
       "    <tr>\n",
       "      <th>mean</th>\n",
       "      <td>446.000000</td>\n",
       "      <td>0.383838</td>\n",
       "      <td>2.308642</td>\n",
       "      <td>29.699118</td>\n",
       "      <td>0.523008</td>\n",
       "      <td>0.381594</td>\n",
       "      <td>32.204208</td>\n",
       "    </tr>\n",
       "    <tr>\n",
       "      <th>std</th>\n",
       "      <td>257.353842</td>\n",
       "      <td>0.486592</td>\n",
       "      <td>0.836071</td>\n",
       "      <td>14.526497</td>\n",
       "      <td>1.102743</td>\n",
       "      <td>0.806057</td>\n",
       "      <td>49.693429</td>\n",
       "    </tr>\n",
       "    <tr>\n",
       "      <th>min</th>\n",
       "      <td>1.000000</td>\n",
       "      <td>0.000000</td>\n",
       "      <td>1.000000</td>\n",
       "      <td>0.420000</td>\n",
       "      <td>0.000000</td>\n",
       "      <td>0.000000</td>\n",
       "      <td>0.000000</td>\n",
       "    </tr>\n",
       "    <tr>\n",
       "      <th>25%</th>\n",
       "      <td>223.500000</td>\n",
       "      <td>0.000000</td>\n",
       "      <td>2.000000</td>\n",
       "      <td>20.125000</td>\n",
       "      <td>0.000000</td>\n",
       "      <td>0.000000</td>\n",
       "      <td>7.910400</td>\n",
       "    </tr>\n",
       "    <tr>\n",
       "      <th>50%</th>\n",
       "      <td>446.000000</td>\n",
       "      <td>0.000000</td>\n",
       "      <td>3.000000</td>\n",
       "      <td>28.000000</td>\n",
       "      <td>0.000000</td>\n",
       "      <td>0.000000</td>\n",
       "      <td>14.454200</td>\n",
       "    </tr>\n",
       "    <tr>\n",
       "      <th>75%</th>\n",
       "      <td>668.500000</td>\n",
       "      <td>1.000000</td>\n",
       "      <td>3.000000</td>\n",
       "      <td>38.000000</td>\n",
       "      <td>1.000000</td>\n",
       "      <td>0.000000</td>\n",
       "      <td>31.000000</td>\n",
       "    </tr>\n",
       "    <tr>\n",
       "      <th>max</th>\n",
       "      <td>891.000000</td>\n",
       "      <td>1.000000</td>\n",
       "      <td>3.000000</td>\n",
       "      <td>80.000000</td>\n",
       "      <td>8.000000</td>\n",
       "      <td>6.000000</td>\n",
       "      <td>512.329200</td>\n",
       "    </tr>\n",
       "  </tbody>\n",
       "</table>\n",
       "</div>"
      ],
      "text/plain": [
       "       PassengerId    Survived      Pclass         Age       SibSp  \\\n",
       "count   891.000000  891.000000  891.000000  714.000000  891.000000   \n",
       "mean    446.000000    0.383838    2.308642   29.699118    0.523008   \n",
       "std     257.353842    0.486592    0.836071   14.526497    1.102743   \n",
       "min       1.000000    0.000000    1.000000    0.420000    0.000000   \n",
       "25%     223.500000    0.000000    2.000000   20.125000    0.000000   \n",
       "50%     446.000000    0.000000    3.000000   28.000000    0.000000   \n",
       "75%     668.500000    1.000000    3.000000   38.000000    1.000000   \n",
       "max     891.000000    1.000000    3.000000   80.000000    8.000000   \n",
       "\n",
       "            Parch        Fare  \n",
       "count  891.000000  891.000000  \n",
       "mean     0.381594   32.204208  \n",
       "std      0.806057   49.693429  \n",
       "min      0.000000    0.000000  \n",
       "25%      0.000000    7.910400  \n",
       "50%      0.000000   14.454200  \n",
       "75%      0.000000   31.000000  \n",
       "max      6.000000  512.329200  "
      ]
     },
     "execution_count": 5,
     "metadata": {},
     "output_type": "execute_result"
    }
   ],
   "source": [
    "titanic.describe()"
   ]
  },
  {
   "cell_type": "markdown",
   "metadata": {},
   "source": [
    "## Formatting the data\n",
    "In the following sections each column that is relevant to our prediction will have its own function. These functions are designed to convert that column into something usable by the neural network.\n",
    "\n",
    "### Filter sex\n",
    "Let's start with sex. At the moment our dataset contains a string with either 'male' or 'female' in it but our neural network doesn't know what to do with a string, so we need to be able to represent this information with numbers.\n",
    "\n",
    "An easy solution is to convert 'male' to 1, and female to 0. Using pandas series datatype, we can create what is essentially an array. Then we add a conditional using number which looks at each value in the column df.Sex and converts it to 1 if it is 'male' and 0 if it is not 'male'.\n",
    "\n",
    "Then we return this series to use later"
   ]
  },
  {
   "cell_type": "code",
   "execution_count": 6,
   "metadata": {},
   "outputs": [],
   "source": [
    "# Convert sex to a binary value of either 1 for male or 0 for female\n",
    "def filter_sex(df):\n",
    "    sex_series = pd.Series( np.where( df.Sex == 'male' , 1 , 0 ) , name = 'Sex' )\n",
    "    return sex_series"
   ]
  },
  {
   "cell_type": "code",
   "execution_count": 7,
   "metadata": {},
   "outputs": [
    {
     "name": "stdout",
     "output_type": "stream",
     "text": [
      "0    1\n",
      "1    0\n",
      "2    0\n",
      "3    0\n",
      "4    1\n",
      "Name: Sex, dtype: int64\n"
     ]
    }
   ],
   "source": [
    "print(filter_sex(titanic).head())"
   ]
  },
  {
   "cell_type": "markdown",
   "metadata": {},
   "source": [
    "### Filter age and fare\n",
    "In the following two sections we have a different problem. Some of our data is missing! We can't input nothing to our network so we're going to have to fill in the blanks with something.\n",
    "\n",
    "Fortunately, a pandas dataframe has this nifty function *fillna* where we can fill in every entry in a column with a value.\n",
    "\n",
    "As a simple solution, let's just add the average age and fare for these values. There's better ways to estimate this field but for now this will do."
   ]
  },
  {
   "cell_type": "code",
   "execution_count": 287,
   "metadata": {},
   "outputs": [],
   "source": [
    "# Fill missing values of Age with the average of Age (mean)\n",
    "def filter_age(df):\n",
    "    age_df = pd.DataFrame() # Create a new dataframe to store our results\n",
    "    age_df[ 'Age' ] = df.Age.fillna(df.Age.mean())\n",
    "    return age_df"
   ]
  },
  {
   "cell_type": "code",
   "execution_count": 288,
   "metadata": {},
   "outputs": [
    {
     "name": "stdout",
     "output_type": "stream",
     "text": [
      "    Age\n",
      "0  22.0\n",
      "1  38.0\n",
      "2  26.0\n",
      "3  35.0\n",
      "4  35.0\n"
     ]
    }
   ],
   "source": [
    "print(filter_age(titanic).head())"
   ]
  },
  {
   "cell_type": "code",
   "execution_count": 289,
   "metadata": {},
   "outputs": [],
   "source": [
    "# Fill missing values of fare with the average of the fare (mean)\n",
    "def filter_fare(df):\n",
    "    fare_df = pd.DataFrame() # Create a new dataframe to store our results\n",
    "    fare_df['fare'] = df.Fare.fillna(df.Fare.mean())\n",
    "    return fare_df"
   ]
  },
  {
   "cell_type": "code",
   "execution_count": 290,
   "metadata": {},
   "outputs": [
    {
     "name": "stdout",
     "output_type": "stream",
     "text": [
      "      fare\n",
      "0   7.2500\n",
      "1  71.2833\n",
      "2   7.9250\n",
      "3  53.1000\n",
      "4   8.0500\n"
     ]
    }
   ],
   "source": [
    "print(filter_fare(titanic).head())"
   ]
  },
  {
   "cell_type": "markdown",
   "metadata": {},
   "source": [
    "### Filter Title\n",
    "Now we've got something a little more challenging. From the name field we want to have a way to pull out the persons title and represent it in a way that the neural network can understand. Does the captain really go down with the ship?\n",
    "\n",
    "We're going to do this using a **one-hot encoding**. A one-hot encoding helps deal with categorical data by adding multiple columns for each possible category, and adding a value of 1 to the relevant column. For example:\n",
    "\n",
    "categories are **[apple, bannana, pear]**\n",
    "\n",
    "our data is **[bannana, pear, grape, apple, pear]**\n",
    "\n",
    "then a one-hot encoding would look like so:\n",
    "**[[0,1,0],[0,0,1],[0,0,0],[1,0,0],[0,0,1]]**\n",
    "\n",
    "For each data point we've converted it into an array the same size as our categories, and then added a '1' to the correct column.\n",
    "\n",
    "We also want to simplify our data for this task so we're going to create a dictionary object that merges certain titles to mean the same thing. Such as **Capt** and **Col** are both converted to **Officer**\n",
    "\n",
    "We can do this with titles like so:"
   ]
  },
  {
   "cell_type": "code",
   "execution_count": 291,
   "metadata": {},
   "outputs": [],
   "source": [
    "def filter_title(df):\n",
    "    title_df = df[ 'Name' ].map( lambda name: name.split( ',' )[1].split( '.' )[0].strip() )\n",
    "\n",
    "    # a map of more aggregated titles\n",
    "    Title_Dictionary = {\n",
    "                        \"Capt\":       \"Officer\",\n",
    "                        \"Col\":        \"Officer\",\n",
    "                        \"Major\":      \"Officer\",\n",
    "                        \"Jonkheer\":   \"Royalty\",\n",
    "                        \"Don\":        \"Royalty\",\n",
    "                        \"Sir\" :       \"Royalty\",\n",
    "                        \"Dr\":         \"Officer\",\n",
    "                        \"Rev\":        \"Officer\",\n",
    "                        \"the Countess\":\"Royalty\",\n",
    "                        \"Dona\":       \"Royalty\",\n",
    "                        \"Mme\":        \"Mrs\",\n",
    "                        \"Mlle\":       \"Miss\",\n",
    "                        \"Ms\":         \"Mrs\",\n",
    "                        \"Mr\" :        \"Mr\",\n",
    "                        \"Mrs\" :       \"Mrs\",\n",
    "                        \"Miss\" :      \"Miss\",\n",
    "                        \"Master\" :    \"Master\",\n",
    "                        \"Lady\" :      \"Royalty\"\n",
    "\n",
    "                        }\n",
    "\n",
    "    # we map each title\n",
    "    title_df = title_df.map( Title_Dictionary )\n",
    "    title_df = pd.get_dummies( title_df )\n",
    "    return title_df"
   ]
  },
  {
   "cell_type": "code",
   "execution_count": 292,
   "metadata": {},
   "outputs": [
    {
     "name": "stdout",
     "output_type": "stream",
     "text": [
      "   Master  Miss  Mr  Mrs  Officer  Royalty\n",
      "0       0     0   1    0        0        0\n",
      "1       0     0   0    1        0        0\n",
      "2       0     1   0    0        0        0\n",
      "3       0     0   0    1        0        0\n",
      "4       0     0   1    0        0        0\n"
     ]
    }
   ],
   "source": [
    "print(filter_title(titanic).head())"
   ]
  },
  {
   "cell_type": "markdown",
   "metadata": {},
   "source": [
    "### Filter Cabin\n",
    "Here we use a similar technique for one-hot encoding. Additionally, we also fill in the blanks with an extra column to represent unknown cabins (since we can't just average the cabin rooms)"
   ]
  },
  {
   "cell_type": "code",
   "execution_count": 293,
   "metadata": {},
   "outputs": [],
   "source": [
    "def filter_cabin(df):\n",
    "    cabin_df = pd.DataFrame()\n",
    "\n",
    "    # replacing missing cabins with U (for Uknown)\n",
    "    cabin_df[ 'Cabin' ] = df.Cabin.fillna( 'U' )\n",
    "\n",
    "    # mapping each Cabin value with the cabin letter\n",
    "    cabin_df[ 'Cabin' ] = cabin_df[ 'Cabin' ].map( lambda c : c[0] )\n",
    "\n",
    "    # dummy encoding ...\n",
    "    cabin_df = pd.get_dummies( cabin_df['Cabin'] , prefix = 'Cabin' )\n",
    "    return cabin_df"
   ]
  },
  {
   "cell_type": "code",
   "execution_count": 294,
   "metadata": {},
   "outputs": [
    {
     "name": "stdout",
     "output_type": "stream",
     "text": [
      "   Cabin_A  Cabin_B  Cabin_C  Cabin_D  Cabin_E  Cabin_F  Cabin_G  Cabin_T  \\\n",
      "0        0        0        0        0        0        0        0        0   \n",
      "1        0        0        1        0        0        0        0        0   \n",
      "2        0        0        0        0        0        0        0        0   \n",
      "3        0        0        1        0        0        0        0        0   \n",
      "4        0        0        0        0        0        0        0        0   \n",
      "\n",
      "   Cabin_U  \n",
      "0        1  \n",
      "1        0  \n",
      "2        1  \n",
      "3        0  \n",
      "4        1  \n"
     ]
    }
   ],
   "source": [
    "print(filter_cabin(titanic).head())"
   ]
  },
  {
   "cell_type": "markdown",
   "metadata": {},
   "source": [
    "### Filter Ticket\n",
    "Same thing again except we add an extra function to clean the ticket string."
   ]
  },
  {
   "cell_type": "code",
   "execution_count": 295,
   "metadata": {},
   "outputs": [],
   "source": [
    "def clean_ticket( ticket ):\n",
    "    ticket = ticket.replace( '.' , '' )\n",
    "    ticket = ticket.replace( '/' , '' )\n",
    "    ticket = ticket.split()\n",
    "    ticket = map( lambda t : t.strip() , ticket )\n",
    "    ticket = list(filter( lambda t : not t.isdigit() , ticket ))\n",
    "    if len( ticket ) > 0:\n",
    "        return ticket[0]\n",
    "    else: \n",
    "        return 'XXX'\n",
    "\n",
    "def filter_ticket(df):\n",
    "    ticket_df = pd.DataFrame()\n",
    "\n",
    "    # Extracting dummy variables from tickets:\n",
    "    ticket_df[ 'Ticket' ] = df[ 'Ticket' ].map( clean_ticket )\n",
    "    ticket_df = pd.get_dummies( ticket_df[ 'Ticket' ] , prefix = 'Ticket' )\n",
    "    return ticket_df"
   ]
  },
  {
   "cell_type": "code",
   "execution_count": 296,
   "metadata": {},
   "outputs": [
    {
     "name": "stdout",
     "output_type": "stream",
     "text": [
      "   Ticket_A4  Ticket_A5  Ticket_AS  Ticket_C  Ticket_CA  Ticket_CASOTON  \\\n",
      "0          0          1          0         0          0               0   \n",
      "1          0          0          0         0          0               0   \n",
      "2          0          0          0         0          0               0   \n",
      "3          0          0          0         0          0               0   \n",
      "4          0          0          0         0          0               0   \n",
      "\n",
      "   Ticket_FC  Ticket_FCC  Ticket_Fa  Ticket_LINE     ...      Ticket_SOPP  \\\n",
      "0          0           0          0            0     ...                0   \n",
      "1          0           0          0            0     ...                0   \n",
      "2          0           0          0            0     ...                0   \n",
      "3          0           0          0            0     ...                0   \n",
      "4          0           0          0            0     ...                0   \n",
      "\n",
      "   Ticket_SOTONO2  Ticket_SOTONOQ  Ticket_SP  Ticket_STONO  Ticket_STONO2  \\\n",
      "0               0               0          0             0              0   \n",
      "1               0               0          0             0              0   \n",
      "2               0               0          0             0              1   \n",
      "3               0               0          0             0              0   \n",
      "4               0               0          0             0              0   \n",
      "\n",
      "   Ticket_SWPP  Ticket_WC  Ticket_WEP  Ticket_XXX  \n",
      "0            0          0           0           0  \n",
      "1            0          0           0           0  \n",
      "2            0          0           0           0  \n",
      "3            0          0           0           1  \n",
      "4            0          0           0           1  \n",
      "\n",
      "[5 rows x 31 columns]\n"
     ]
    }
   ],
   "source": [
    "print(filter_ticket(titanic).head())"
   ]
  },
  {
   "cell_type": "markdown",
   "metadata": {},
   "source": [
    "### Filter Family\n",
    "In some cases we can even add brand new features for our neural network. This is a type of feature augmentation where we take existing data and make some alterations to it to form new data.\n",
    "\n",
    "Here we can determine the family size by combining the parch (parents) and sibsp (siblings). We then create a one-hot encoding of the size of the family"
   ]
  },
  {
   "cell_type": "code",
   "execution_count": 297,
   "metadata": {},
   "outputs": [],
   "source": [
    "def filter_family(df):\n",
    "    family_df = pd.DataFrame()\n",
    "\n",
    "    # introducing a new feature : the size of families (including the passenger)\n",
    "    family_df[ 'FamilySize' ] = df[ 'Parch' ] + df[ 'SibSp' ] + 1\n",
    "\n",
    "    # introducing other features based on the family size\n",
    "    family_df[ 'Family_Single' ] = family_df[ 'FamilySize' ].map( lambda s : 1 if s == 1 else 0 )\n",
    "    family_df[ 'Family_Small' ]  = family_df[ 'FamilySize' ].map( lambda s : 1 if 2 <= s <= 4 else 0 )\n",
    "    family_df[ 'Family_Large' ]  = family_df[ 'FamilySize' ].map( lambda s : 1 if 5 <= s else 0 )\n",
    "    return family_df"
   ]
  },
  {
   "cell_type": "code",
   "execution_count": 298,
   "metadata": {},
   "outputs": [
    {
     "name": "stdout",
     "output_type": "stream",
     "text": [
      "   FamilySize  Family_Single  Family_Small  Family_Large\n",
      "0           2              0             1             0\n",
      "1           2              0             1             0\n",
      "2           1              1             0             0\n",
      "3           2              0             1             0\n",
      "4           1              1             0             0\n"
     ]
    }
   ],
   "source": [
    "print(filter_family(titanic).head())"
   ]
  },
  {
   "cell_type": "markdown",
   "metadata": {},
   "source": [
    "### Filter Everything!\n",
    "Now that all those functions are complete we can mash it all together in one big dataframe. This function takes the raw data and sends it to each function. Then uses a concatanation function to combine it all together in one big dataset.\n",
    "\n",
    "We return Data_x (our features) and data_y (our labels if the person survived or not)"
   ]
  },
  {
   "cell_type": "code",
   "execution_count": 300,
   "metadata": {},
   "outputs": [],
   "source": [
    "# Now mash it all together into one big dataframe\n",
    "def format_data(df):\n",
    "    sex_series = filter_sex(df)\n",
    "    age_df = filter_age(df)\n",
    "    fare_df = filter_fare(df)\n",
    "    title_df = filter_title(df)\n",
    "    cabin_df = filter_cabin(df)\n",
    "    ticket_df = filter_ticket(df)\n",
    "    family_df = filter_family(df)\n",
    "    \n",
    "    ticket_df.reset_index()\n",
    "    family_df.reset_index()\n",
    "    \n",
    "    x_data = pd.concat( [age_df, fare_df, title_df, cabin_df, ticket_df, family_df, sex_series ] , axis=1 )\n",
    "\n",
    "    if 'Survived' in df:\n",
    "        y_data = df.Survived\n",
    "    else:\n",
    "        y_data = None\n",
    "    return x_data, y_data"
   ]
  },
  {
   "cell_type": "code",
   "execution_count": 301,
   "metadata": {},
   "outputs": [
    {
     "name": "stdout",
     "output_type": "stream",
     "text": [
      "    Age     fare  Master  Miss  Mr  Mrs  Officer  Royalty  Cabin_A  Cabin_B  \\\n",
      "0  22.0   7.2500       0     0   1    0        0        0        0        0   \n",
      "1  38.0  71.2833       0     0   0    1        0        0        0        0   \n",
      "2  26.0   7.9250       0     1   0    0        0        0        0        0   \n",
      "3  35.0  53.1000       0     0   0    1        0        0        0        0   \n",
      "4  35.0   8.0500       0     0   1    0        0        0        0        0   \n",
      "\n",
      "  ...   Ticket_STONO2  Ticket_SWPP  Ticket_WC  Ticket_WEP  Ticket_XXX  \\\n",
      "0 ...               0            0          0           0           0   \n",
      "1 ...               0            0          0           0           0   \n",
      "2 ...               1            0          0           0           0   \n",
      "3 ...               0            0          0           0           1   \n",
      "4 ...               0            0          0           0           1   \n",
      "\n",
      "   FamilySize  Family_Single  Family_Small  Family_Large  Sex  \n",
      "0           2              0             1             0    1  \n",
      "1           2              0             1             0    0  \n",
      "2           1              1             0             0    0  \n",
      "3           2              0             1             0    0  \n",
      "4           1              1             0             0    1  \n",
      "\n",
      "[5 rows x 53 columns]\n"
     ]
    }
   ],
   "source": [
    "print(format_data(titanic)[0].head())"
   ]
  },
  {
   "cell_type": "markdown",
   "metadata": {},
   "source": [
    "# Send it to a Neural Network\n",
    "Below is a basic implementation of a one layer neural network. It is purposefully very basic so that you can expand and improve it with the challenge below.\n",
    "\n",
    "All details of how this part works can be found in the MNIST_digit_recognition file.\n",
    "\n",
    "One thing to note is that we now send our titanic dataframe to the format_data function we created above. Then use a train_test_split from sklearn in order to split the data."
   ]
  },
  {
   "cell_type": "code",
   "execution_count": 302,
   "metadata": {},
   "outputs": [],
   "source": [
    "import tensorflow as tf\n",
    "\n",
    "data_x, data_y = format_data(titanic)\n",
    "train_x , test_x , train_y , test_y = train_test_split( data_x , data_y , train_size = .8 )\n",
    "\n",
    "learning_rate = 0.001\n",
    "epochs = 500\n",
    "\n",
    "input_nodes = 53\n",
    "output_nodes = 1\n",
    "batch_size = 10\n",
    "\n",
    "x = tf.placeholder('float', [None, input_nodes])\n",
    "y = tf.placeholder('float', [None, output_nodes])\n",
    "\n",
    "hidden_1_nodes = 100\n",
    "\n",
    "hlw_1 = tf.Variable(tf.random_normal([input_nodes, hidden_1_nodes])) # The weights of the first hidden layer\n",
    "hlb_1 = tf.Variable(tf.random_normal([hidden_1_nodes])) # The biases of the first hidden layer\n",
    "\n",
    "outw = tf.Variable(tf.random_normal([hidden_1_nodes, output_nodes])) # The weights of the output layer\n",
    "outb = tf.Variable(tf.random_normal([output_nodes])) # The biases of the output layer"
   ]
  },
  {
   "cell_type": "code",
   "execution_count": 303,
   "metadata": {},
   "outputs": [],
   "source": [
    "def forward_propagation(x):\n",
    "    hlout_1 = tf.nn.sigmoid(tf.matmul(x, hlw_1) + hlb_1) # input multiplied by hidden layer 1 weights. Add bias. Apply sigmoid\n",
    "    output = tf.nn.sigmoid(tf.matmul(hlout_1, outw) + outb) # hidden layer 2 output multiplied by output layer weights. add bias. DON'T add sigmoid\n",
    "    return output"
   ]
  },
  {
   "cell_type": "code",
   "execution_count": 304,
   "metadata": {},
   "outputs": [],
   "source": [
    "def backward_propagation(y_, y, learning_rate):\n",
    "    cost = tf.reduce_mean( tf.nn.sigmoid_cross_entropy_with_logits(logits=y_, labels=y)) #Error/loss function. Cost is the total error over the batch\n",
    "    optimizer = tf.train.AdamOptimizer(learning_rate).minimize(cost) #Adam optimizer is a type of gradient descent. We want it to use the learning rate and minimize that cost\n",
    "    return optimizer, cost"
   ]
  },
  {
   "cell_type": "code",
   "execution_count": 305,
   "metadata": {},
   "outputs": [],
   "source": [
    "def calculate_accuracy(y_, y):\n",
    "    correct = tf.equal(tf.round(y_), tf.round(y)) # argmax finds the index of the largest value in a tensor. So we're comparing the two using tf.equal\n",
    "    accuracy = tf.reduce_mean(tf.cast(correct, 'float')) # We've got a tensor of true and false statements now. Let's find the average amount\n",
    "    return accuracy, correct"
   ]
  },
  {
   "cell_type": "code",
   "execution_count": 306,
   "metadata": {},
   "outputs": [],
   "source": [
    "y_ = forward_propagation(x)\n",
    "optimizer, cost = backward_propagation(y_, y, learning_rate)\n",
    "accuracy = calculate_accuracy(y_, y)"
   ]
  },
  {
   "cell_type": "code",
   "execution_count": 307,
   "metadata": {},
   "outputs": [
    {
     "name": "stderr",
     "output_type": "stream",
     "text": [
      "/home/matthewlee/.local/lib/python3.5/site-packages/numpy/core/fromnumeric.py:57: FutureWarning: reshape is deprecated and will raise in a subsequent release. Please use .values.reshape(...) instead\n",
      "  return getattr(obj, method)(*args, **kwds)\n"
     ]
    },
    {
     "name": "stdout",
     "output_type": "stream",
     "text": [
      "Epoch 100 completed out of 500 \n",
      "cost: 4457.90065163 \n",
      "training accuracy: 0.875 \n",
      "\n",
      "Epoch 200 completed out of 500 \n",
      "cost: 4275.97121423 \n",
      "training accuracy: 0.88764 \n",
      "\n",
      "Epoch 300 completed out of 500 \n",
      "cost: 4227.7971991 \n",
      "training accuracy: 0.908708 \n",
      "\n",
      "Epoch 400 completed out of 500 \n",
      "cost: 4181.04337239 \n",
      "training accuracy: 0.922753 \n",
      "\n",
      "Epoch 500 completed out of 500 \n",
      "cost: 4153.52786061 \n",
      "training accuracy: 0.924157 \n",
      "\n"
     ]
    }
   ],
   "source": [
    "sess = tf.Session()\n",
    "sess.run(tf.global_variables_initializer())\n",
    "\n",
    "cost_per_epoch = [] \n",
    "accuracy_per_epoch = []\n",
    "\n",
    "# Loop over the dataset 'epochs' amount of times\n",
    "epoch_cost = 0\n",
    "for epoch in range(epochs):\n",
    "    # Go through the dataset in batches\n",
    "    for i in range(int(len(train_x)/batch_size)):\n",
    "        batch_x = train_x[i*batch_size:i*batch_size + batch_size]\n",
    "        batch_y = train_y[i*batch_size:i*batch_size + batch_size]\n",
    "        \n",
    "        batch_x = np.reshape(batch_x, [len(batch_x), input_nodes])\n",
    "        batch_y = np.reshape(batch_y, [len(batch_y), output_nodes])\n",
    "        \n",
    "        _, c = sess.run([optimizer, cost], feed_dict={x: batch_x, y: batch_y}) # Run our forward prop and backward prop over this batch of training data\n",
    "        epoch_cost += c\n",
    "    if (epoch != 0 and (epoch+1) % 100 == 0 or epoch+1 == epochs):\n",
    "        # Test the accuracy of our model against the training set\n",
    "        epoch_accuracy, _ = sess.run(accuracy, feed_dict={x: np.reshape(train_x, [len(train_x), input_nodes]), y: np.reshape(train_y, [len(train_y), output_nodes])}) # Pass all the labels through to calculate accuracy\n",
    "        print('Epoch', epoch+1, 'completed out of', epochs, '\\ncost:', epoch_cost, '\\ntraining accuracy:', epoch_accuracy, '\\n')\n",
    "        # Store the results of this epoch so we can make nice graphs later\n",
    "        cost_per_epoch.append(epoch_cost)\n",
    "        accuracy_per_epoch.append(epoch_accuracy) \n",
    "        epoch_cost = 0"
   ]
  },
  {
   "cell_type": "code",
   "execution_count": 281,
   "metadata": {},
   "outputs": [
    {
     "data": {
      "image/png": "[encoded data removed]",
      "text/plain": [
       "<matplotlib.figure.Figure at 0x7fb244416588>"
      ]
     },
     "metadata": {},
     "output_type": "display_data"
    },
    {
     "name": "stdout",
     "output_type": "stream",
     "text": [
      "Cost each 100 iterations\n"
     ]
    },
    {
     "data": {
      "image/png": "[encoded data removed]",
      "text/plain": [
       "<matplotlib.figure.Figure at 0x7fb2444242b0>"
      ]
     },
     "metadata": {},
     "output_type": "display_data"
    },
    {
     "name": "stdout",
     "output_type": "stream",
     "text": [
      "Accuracy each 100 iteration\n"
     ]
    }
   ],
   "source": [
    "plt.plot(cost_per_epoch)\n",
    "plt.show()\n",
    "print(\"Cost each 100 iterations\")\n",
    "plt.plot(accuracy_per_epoch)\n",
    "plt.show()\n",
    "print(\"Accuracy each 100 iteration\")"
   ]
  },
  {
   "cell_type": "code",
   "execution_count": 282,
   "metadata": {},
   "outputs": [
    {
     "name": "stdout",
     "output_type": "stream",
     "text": [
      "training accuracy: 0.914326\n",
      "testing accuracy: 0.804469\n"
     ]
    },
    {
     "name": "stderr",
     "output_type": "stream",
     "text": [
      "/home/matthewlee/.local/lib/python3.5/site-packages/numpy/core/fromnumeric.py:57: FutureWarning: reshape is deprecated and will raise in a subsequent release. Please use .values.reshape(...) instead\n",
      "  return getattr(obj, method)(*args, **kwds)\n"
     ]
    }
   ],
   "source": [
    "(test_accuracy, test_correct_list), outputs = sess.run([accuracy, y_], feed_dict={x: np.reshape(test_x, [len(test_x), input_nodes]), y: np.reshape(test_y, [len(test_y), output_nodes])})\n",
    "print(\"training accuracy:\", accuracy_per_epoch[-1])\n",
    "print(\"testing accuracy:\", test_accuracy)"
   ]
  },
  {
   "cell_type": "markdown",
   "metadata": {},
   "source": [
    "## Single value prediction\n",
    "These two functions setup one row of data and runs a prediction of it"
   ]
  },
  {
   "cell_type": "code",
   "execution_count": 308,
   "metadata": {},
   "outputs": [],
   "source": [
    "titanic_formatted, _ = format_data(titanic)\n",
    "titanic_columns = titanic_formatted.columns.get_values()\n",
    "\n",
    "def predict_passenger_outcome(passenger):\n",
    "    data = pd.DataFrame(data=[passenger])\n",
    "    data, _ = format_data(data)\n",
    "    data = pd.DataFrame(columns=titanic_columns, data=data)\n",
    "    data = data.fillna(0)\n",
    "   \n",
    "    data = np.reshape(data, [len(data), input_nodes])\n",
    "    result = sess.run(y_, feed_dict={x: data})\n",
    "    return passenger['Name'] + \" survival chance: \" +  str('{:0.2f}'.format(result[0][0]*100)) + \"%\"\n",
    "\n",
    "def setup_passenger(Pclass, Name, Sex, Age, SibSp, Parch, Ticket, Fare, Cabin, Embarked):\n",
    "    from random import randint\n",
    "    passenger = {\n",
    "        'PassengerId':randint(0, 99999),\n",
    "        'Pclass':Pclass,\n",
    "        'Name':Name,\n",
    "        'Sex':Sex,\n",
    "        'Age':Age,\n",
    "        'SibSp':SibSp,\n",
    "        'Parch':Parch,\n",
    "        'Ticket':Ticket,\n",
    "        'Fare': Fare,\n",
    "        'Cabin': Cabin,\n",
    "        'Embarked':Embarked\n",
    "    }\n",
    "    \n",
    "    \n",
    "    return passenger"
   ]
  },
  {
   "cell_type": "code",
   "execution_count": 319,
   "metadata": {},
   "outputs": [
    {
     "name": "stdout",
     "output_type": "stream",
     "text": [
      "Dawson, Mr. Jack survival chance: 3.00%\n",
      "Bukater, Miss. Rose Dewitt survival chance: 99.83%\n"
     ]
    }
   ],
   "source": [
    "jack = setup_passenger(3, 'Dawson, Mr. Jack', 'male', 20.0, 1, 0, 'PC 17599', 7.500, 'D85', 'C')\n",
    "rose = setup_passenger(1, 'Bukater, Miss. Rose Dewitt', 'female', 19.0, 1, 0, 'PC 17599', 71.2833, 'A85', 'A')\n",
    "\n",
    "print(predict_passenger_outcome(jack))\n",
    "print(predict_passenger_outcome(rose))\n"
   ]
  },
  {
   "cell_type": "markdown",
   "metadata": {},
   "source": [
    "\n",
    "There was a small chance for Jack to survive after all! If only Rose would <a href=\"https://www.thesun.co.uk/archives/news/550649/3d-titanic-reveals-rose-did-have-room-for-jack-on-that-door/\">scooch over a bit</a> \n",
    "\n",
    "*Absolutely no research was done on the characters to make sure the above details are correct. I've seen Titanic once and I'm not prepared to endure that rollercoaster of emotions again*"
   ]
  },
  {
   "cell_type": "markdown",
   "metadata": {},
   "source": [
    "## Morbid curiosity \n",
    "Ever wanted to know if you would have survived the Titanic? Well good news! Now you (sort of) can!\n",
    "\n",
    "Enter your details below. You'll have to guestimate your ticket price and cabin location."
   ]
  },
  {
   "cell_type": "code",
   "execution_count": null,
   "metadata": {},
   "outputs": [],
   "source": [
    "# Enter your own details (or your best guess) and see if you're a Jack or a Rose (dead or alive)\n",
    "you = setup_passenger(Pclass, Name, Sex, Age, SibSp, Parch, Ticket, Fare, Cabin, Embarked)\n",
    "\n",
    "print(predict_passenger_outcome(you))"
   ]
  },
  {
   "cell_type": "markdown",
   "metadata": {},
   "source": [
    "# Challenge\n",
    "The above code was purposely left in a basic state. There's a lot of work that can be done to improve this network on both the data manipulation side and neural network side.\n",
    "\n",
    "Here's a few ideas of ways you can improve the network:\n",
    "\n",
    "**Normalization**: Networks work best when the values entered are in a consistent format. This allows the weights to remain consistent and produces more stable results. Normalizing the data is taking a column and reducing the all values between a certain range. For instance, it may help to convert the ticket fare price and age to a value between 1 and 0. Check out numpys function <a href=\"https://docs.scipy.org/doc/numpy-1.13.0/reference/generated/numpy.linalg.norm.html\">numpy.linalg.norm</a>\n",
    "\n",
    "**Fill in the blanks better**: At the moment we're either entering in the average or creating another category. This is fine but what if we were smarter about it? Why not average the age or fare based on what title the person has? An assumption can be made that people with higher titles tend to be older.\n",
    "\n",
    "**Add more layers**: When in doubt, add more layers. It very rarely hurts the networks performance.\n",
    "\n",
    "**Change the learning rate**: Play around with the learning rate to see if there are any improvements when you increase or decrease the value.\n",
    "\n",
    "**Change the epochs**: Who knows, maybe training for longer will improve the network?\n",
    "\n",
    "**Alter the training/test split**: The function train_test_split takes a train_size parameter. It's currently set to have 80% of the data be training and 20% of the data to be testing. Maybe a different split would work better?\n",
    "\n",
    "**Experiment**: Play around with it! There's always plenty of things that can be done"
   ]
  },
  {
   "cell_type": "code",
   "execution_count": null,
   "metadata": {},
   "outputs": [],
   "source": []
  }
 ],
 "metadata": {
  "kernelspec": {
   "display_name": "Python 3",
   "language": "python",
   "name": "python3"
  },
  "language_info": {
   "codemirror_mode": {
    "name": "ipython",
    "version": 3
   },
   "file_extension": ".py",
   "mimetype": "text/x-python",
   "name": "python",
   "nbconvert_exporter": "python",
   "pygments_lexer": "ipython3",
   "version": "3.5.2"
  }
 },
 "nbformat": 4,
 "nbformat_minor": 2
}
