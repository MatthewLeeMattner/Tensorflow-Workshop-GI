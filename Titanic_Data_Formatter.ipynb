{
 "cells": [
  {
   "cell_type": "code",
   "execution_count": 35,
   "metadata": {},
   "outputs": [
    {
     "data": {
      "text/html": [
       "<div>\n",
       "<style>\n",
       "    .dataframe thead tr:only-child th {\n",
       "        text-align: right;\n",
       "    }\n",
       "\n",
       "    .dataframe thead th {\n",
       "        text-align: left;\n",
       "    }\n",
       "\n",
       "    .dataframe tbody tr th {\n",
       "        vertical-align: top;\n",
       "    }\n",
       "</style>\n",
       "<table border=\"1\" class=\"dataframe\">\n",
       "  <thead>\n",
       "    <tr style=\"text-align: right;\">\n",
       "      <th></th>\n",
       "      <th>PassengerId</th>\n",
       "      <th>Survived</th>\n",
       "      <th>Pclass</th>\n",
       "      <th>Name</th>\n",
       "      <th>Sex</th>\n",
       "      <th>Age</th>\n",
       "      <th>SibSp</th>\n",
       "      <th>Parch</th>\n",
       "      <th>Ticket</th>\n",
       "      <th>Fare</th>\n",
       "      <th>Cabin</th>\n",
       "      <th>Embarked</th>\n",
       "    </tr>\n",
       "  </thead>\n",
       "  <tbody>\n",
       "    <tr>\n",
       "      <th>0</th>\n",
       "      <td>1</td>\n",
       "      <td>0</td>\n",
       "      <td>3</td>\n",
       "      <td>Braund, Mr. Owen Harris</td>\n",
       "      <td>male</td>\n",
       "      <td>22.0</td>\n",
       "      <td>1</td>\n",
       "      <td>0</td>\n",
       "      <td>A/5 21171</td>\n",
       "      <td>7.2500</td>\n",
       "      <td>NaN</td>\n",
       "      <td>S</td>\n",
       "    </tr>\n",
       "    <tr>\n",
       "      <th>1</th>\n",
       "      <td>2</td>\n",
       "      <td>1</td>\n",
       "      <td>1</td>\n",
       "      <td>Cumings, Mrs. John Bradley (Florence Briggs Th...</td>\n",
       "      <td>female</td>\n",
       "      <td>38.0</td>\n",
       "      <td>1</td>\n",
       "      <td>0</td>\n",
       "      <td>PC 17599</td>\n",
       "      <td>71.2833</td>\n",
       "      <td>C85</td>\n",
       "      <td>C</td>\n",
       "    </tr>\n",
       "    <tr>\n",
       "      <th>2</th>\n",
       "      <td>3</td>\n",
       "      <td>1</td>\n",
       "      <td>3</td>\n",
       "      <td>Heikkinen, Miss. Laina</td>\n",
       "      <td>female</td>\n",
       "      <td>26.0</td>\n",
       "      <td>0</td>\n",
       "      <td>0</td>\n",
       "      <td>STON/O2. 3101282</td>\n",
       "      <td>7.9250</td>\n",
       "      <td>NaN</td>\n",
       "      <td>S</td>\n",
       "    </tr>\n",
       "    <tr>\n",
       "      <th>3</th>\n",
       "      <td>4</td>\n",
       "      <td>1</td>\n",
       "      <td>1</td>\n",
       "      <td>Futrelle, Mrs. Jacques Heath (Lily May Peel)</td>\n",
       "      <td>female</td>\n",
       "      <td>35.0</td>\n",
       "      <td>1</td>\n",
       "      <td>0</td>\n",
       "      <td>113803</td>\n",
       "      <td>53.1000</td>\n",
       "      <td>C123</td>\n",
       "      <td>S</td>\n",
       "    </tr>\n",
       "    <tr>\n",
       "      <th>4</th>\n",
       "      <td>5</td>\n",
       "      <td>0</td>\n",
       "      <td>3</td>\n",
       "      <td>Allen, Mr. William Henry</td>\n",
       "      <td>male</td>\n",
       "      <td>35.0</td>\n",
       "      <td>0</td>\n",
       "      <td>0</td>\n",
       "      <td>373450</td>\n",
       "      <td>8.0500</td>\n",
       "      <td>NaN</td>\n",
       "      <td>S</td>\n",
       "    </tr>\n",
       "  </tbody>\n",
       "</table>\n",
       "</div>"
      ],
      "text/plain": [
       "   PassengerId  Survived  Pclass  \\\n",
       "0            1         0       3   \n",
       "1            2         1       1   \n",
       "2            3         1       3   \n",
       "3            4         1       1   \n",
       "4            5         0       3   \n",
       "\n",
       "                                                Name     Sex   Age  SibSp  \\\n",
       "0                            Braund, Mr. Owen Harris    male  22.0      1   \n",
       "1  Cumings, Mrs. John Bradley (Florence Briggs Th...  female  38.0      1   \n",
       "2                             Heikkinen, Miss. Laina  female  26.0      0   \n",
       "3       Futrelle, Mrs. Jacques Heath (Lily May Peel)  female  35.0      1   \n",
       "4                           Allen, Mr. William Henry    male  35.0      0   \n",
       "\n",
       "   Parch            Ticket     Fare Cabin Embarked  \n",
       "0      0         A/5 21171   7.2500   NaN        S  \n",
       "1      0          PC 17599  71.2833   C85        C  \n",
       "2      0  STON/O2. 3101282   7.9250   NaN        S  \n",
       "3      0            113803  53.1000  C123        S  \n",
       "4      0            373450   8.0500   NaN        S  "
      ]
     },
     "execution_count": 35,
     "metadata": {},
     "output_type": "execute_result"
    }
   ],
   "source": [
    "import pandas as pd\n",
    "import numpy as np\n",
    "import matplotlib.pyplot as plt\n",
    "from sklearn.cross_validation import train_test_split\n",
    "\n",
    "data_loc = \"data/titanic/\"\n",
    "titanic = pd.read_csv(data_loc + \"titanic.csv\")\n",
    "\n",
    "titanic.head()"
   ]
  },
  {
   "cell_type": "code",
   "execution_count": 4,
   "metadata": {
    "scrolled": true
   },
   "outputs": [
    {
     "data": {
      "text/html": [
       "<div>\n",
       "<style>\n",
       "    .dataframe thead tr:only-child th {\n",
       "        text-align: right;\n",
       "    }\n",
       "\n",
       "    .dataframe thead th {\n",
       "        text-align: left;\n",
       "    }\n",
       "\n",
       "    .dataframe tbody tr th {\n",
       "        vertical-align: top;\n",
       "    }\n",
       "</style>\n",
       "<table border=\"1\" class=\"dataframe\">\n",
       "  <thead>\n",
       "    <tr style=\"text-align: right;\">\n",
       "      <th></th>\n",
       "      <th>PassengerId</th>\n",
       "      <th>Survived</th>\n",
       "      <th>Pclass</th>\n",
       "      <th>Age</th>\n",
       "      <th>SibSp</th>\n",
       "      <th>Parch</th>\n",
       "      <th>Fare</th>\n",
       "    </tr>\n",
       "  </thead>\n",
       "  <tbody>\n",
       "    <tr>\n",
       "      <th>count</th>\n",
       "      <td>891.000000</td>\n",
       "      <td>891.000000</td>\n",
       "      <td>891.000000</td>\n",
       "      <td>714.000000</td>\n",
       "      <td>891.000000</td>\n",
       "      <td>891.000000</td>\n",
       "      <td>891.000000</td>\n",
       "    </tr>\n",
       "    <tr>\n",
       "      <th>mean</th>\n",
       "      <td>446.000000</td>\n",
       "      <td>0.383838</td>\n",
       "      <td>2.308642</td>\n",
       "      <td>29.699118</td>\n",
       "      <td>0.523008</td>\n",
       "      <td>0.381594</td>\n",
       "      <td>32.204208</td>\n",
       "    </tr>\n",
       "    <tr>\n",
       "      <th>std</th>\n",
       "      <td>257.353842</td>\n",
       "      <td>0.486592</td>\n",
       "      <td>0.836071</td>\n",
       "      <td>14.526497</td>\n",
       "      <td>1.102743</td>\n",
       "      <td>0.806057</td>\n",
       "      <td>49.693429</td>\n",
       "    </tr>\n",
       "    <tr>\n",
       "      <th>min</th>\n",
       "      <td>1.000000</td>\n",
       "      <td>0.000000</td>\n",
       "      <td>1.000000</td>\n",
       "      <td>0.420000</td>\n",
       "      <td>0.000000</td>\n",
       "      <td>0.000000</td>\n",
       "      <td>0.000000</td>\n",
       "    </tr>\n",
       "    <tr>\n",
       "      <th>25%</th>\n",
       "      <td>223.500000</td>\n",
       "      <td>0.000000</td>\n",
       "      <td>2.000000</td>\n",
       "      <td>20.125000</td>\n",
       "      <td>0.000000</td>\n",
       "      <td>0.000000</td>\n",
       "      <td>7.910400</td>\n",
       "    </tr>\n",
       "    <tr>\n",
       "      <th>50%</th>\n",
       "      <td>446.000000</td>\n",
       "      <td>0.000000</td>\n",
       "      <td>3.000000</td>\n",
       "      <td>28.000000</td>\n",
       "      <td>0.000000</td>\n",
       "      <td>0.000000</td>\n",
       "      <td>14.454200</td>\n",
       "    </tr>\n",
       "    <tr>\n",
       "      <th>75%</th>\n",
       "      <td>668.500000</td>\n",
       "      <td>1.000000</td>\n",
       "      <td>3.000000</td>\n",
       "      <td>38.000000</td>\n",
       "      <td>1.000000</td>\n",
       "      <td>0.000000</td>\n",
       "      <td>31.000000</td>\n",
       "    </tr>\n",
       "    <tr>\n",
       "      <th>max</th>\n",
       "      <td>891.000000</td>\n",
       "      <td>1.000000</td>\n",
       "      <td>3.000000</td>\n",
       "      <td>80.000000</td>\n",
       "      <td>8.000000</td>\n",
       "      <td>6.000000</td>\n",
       "      <td>512.329200</td>\n",
       "    </tr>\n",
       "  </tbody>\n",
       "</table>\n",
       "</div>"
      ],
      "text/plain": [
       "       PassengerId    Survived      Pclass         Age       SibSp  \\\n",
       "count   891.000000  891.000000  891.000000  714.000000  891.000000   \n",
       "mean    446.000000    0.383838    2.308642   29.699118    0.523008   \n",
       "std     257.353842    0.486592    0.836071   14.526497    1.102743   \n",
       "min       1.000000    0.000000    1.000000    0.420000    0.000000   \n",
       "25%     223.500000    0.000000    2.000000   20.125000    0.000000   \n",
       "50%     446.000000    0.000000    3.000000   28.000000    0.000000   \n",
       "75%     668.500000    1.000000    3.000000   38.000000    1.000000   \n",
       "max     891.000000    1.000000    3.000000   80.000000    8.000000   \n",
       "\n",
       "            Parch        Fare  \n",
       "count  891.000000  891.000000  \n",
       "mean     0.381594   32.204208  \n",
       "std      0.806057   49.693429  \n",
       "min      0.000000    0.000000  \n",
       "25%      0.000000    7.910400  \n",
       "50%      0.000000   14.454200  \n",
       "75%      0.000000   31.000000  \n",
       "max      6.000000  512.329200  "
      ]
     },
     "execution_count": 4,
     "metadata": {},
     "output_type": "execute_result"
    }
   ],
   "source": [
    "titanic.describe()"
   ]
  },
  {
   "cell_type": "code",
   "execution_count": 5,
   "metadata": {},
   "outputs": [],
   "source": [
    "# Convert sex to a binary value of either 1 for male or 0 for female\n",
    "def filter_sex(df):\n",
    "    sex_series = pd.Series( np.where( df.Sex == 'male' , 1 , 0 ) , name = 'Sex' )\n",
    "    return sex_series"
   ]
  },
  {
   "cell_type": "code",
   "execution_count": 6,
   "metadata": {},
   "outputs": [
    {
     "name": "stdout",
     "output_type": "stream",
     "text": [
      "0    1\n",
      "1    0\n",
      "2    0\n",
      "3    0\n",
      "4    1\n",
      "Name: Sex, dtype: int64\n"
     ]
    }
   ],
   "source": [
    "print(filter_sex(titanic).head())"
   ]
  },
  {
   "cell_type": "code",
   "execution_count": 7,
   "metadata": {},
   "outputs": [],
   "source": [
    "# Fill missing values of Age with the average of Age (mean)\n",
    "def filter_age(df):\n",
    "    age_df = pd.DataFrame() # Create a new dataframe to store our results\n",
    "    age_df[ 'Age' ] = df.Age.fillna(df.Age.mean())\n",
    "    return age_df"
   ]
  },
  {
   "cell_type": "code",
   "execution_count": 8,
   "metadata": {},
   "outputs": [
    {
     "name": "stdout",
     "output_type": "stream",
     "text": [
      "    Age\n",
      "0  22.0\n",
      "1  38.0\n",
      "2  26.0\n",
      "3  35.0\n",
      "4  35.0\n"
     ]
    }
   ],
   "source": [
    "print(filter_age(titanic).head())"
   ]
  },
  {
   "cell_type": "code",
   "execution_count": 9,
   "metadata": {},
   "outputs": [],
   "source": [
    "# Fill missing values of fare with the average of the fare (mean)\n",
    "def filter_fare(df):\n",
    "    fare_df = pd.DataFrame() # Create a new dataframe to store our results\n",
    "    fare_df['fare'] = df.Fare.fillna(df.Fare.mean())\n",
    "    return fare_df"
   ]
  },
  {
   "cell_type": "code",
   "execution_count": 10,
   "metadata": {},
   "outputs": [
    {
     "name": "stdout",
     "output_type": "stream",
     "text": [
      "      fare\n",
      "0   7.2500\n",
      "1  71.2833\n",
      "2   7.9250\n",
      "3  53.1000\n",
      "4   8.0500\n"
     ]
    }
   ],
   "source": [
    "print(filter_fare(titanic).head())"
   ]
  },
  {
   "cell_type": "code",
   "execution_count": 11,
   "metadata": {},
   "outputs": [],
   "source": [
    "def filter_title(df):\n",
    "    title_df = df[ 'Name' ].map( lambda name: name.split( ',' )[1].split( '.' )[0].strip() )\n",
    "\n",
    "    # a map of more aggregated titles\n",
    "    Title_Dictionary = {\n",
    "                        \"Capt\":       \"Officer\",\n",
    "                        \"Col\":        \"Officer\",\n",
    "                        \"Major\":      \"Officer\",\n",
    "                        \"Jonkheer\":   \"Royalty\",\n",
    "                        \"Don\":        \"Royalty\",\n",
    "                        \"Sir\" :       \"Royalty\",\n",
    "                        \"Dr\":         \"Officer\",\n",
    "                        \"Rev\":        \"Officer\",\n",
    "                        \"the Countess\":\"Royalty\",\n",
    "                        \"Dona\":       \"Royalty\",\n",
    "                        \"Mme\":        \"Mrs\",\n",
    "                        \"Mlle\":       \"Miss\",\n",
    "                        \"Ms\":         \"Mrs\",\n",
    "                        \"Mr\" :        \"Mr\",\n",
    "                        \"Mrs\" :       \"Mrs\",\n",
    "                        \"Miss\" :      \"Miss\",\n",
    "                        \"Master\" :    \"Master\",\n",
    "                        \"Lady\" :      \"Royalty\"\n",
    "\n",
    "                        }\n",
    "\n",
    "    # we map each title\n",
    "    title_df = title_df.map( Title_Dictionary )\n",
    "    title_df = pd.get_dummies( title_df )\n",
    "    return title_df"
   ]
  },
  {
   "cell_type": "code",
   "execution_count": 12,
   "metadata": {},
   "outputs": [
    {
     "name": "stdout",
     "output_type": "stream",
     "text": [
      "   Master  Miss  Mr  Mrs  Officer  Royalty\n",
      "0       0     0   1    0        0        0\n",
      "1       0     0   0    1        0        0\n",
      "2       0     1   0    0        0        0\n",
      "3       0     0   0    1        0        0\n",
      "4       0     0   1    0        0        0\n"
     ]
    }
   ],
   "source": [
    "print(filter_title(titanic).head())"
   ]
  },
  {
   "cell_type": "code",
   "execution_count": 13,
   "metadata": {},
   "outputs": [],
   "source": [
    "def filter_cabin(df):\n",
    "    cabin_df = pd.DataFrame()\n",
    "\n",
    "    # replacing missing cabins with U (for Uknown)\n",
    "    cabin_df[ 'Cabin' ] = df.Cabin.fillna( 'U' )\n",
    "\n",
    "    # mapping each Cabin value with the cabin letter\n",
    "    cabin_df[ 'Cabin' ] = cabin_df[ 'Cabin' ].map( lambda c : c[0] )\n",
    "\n",
    "    # dummy encoding ...\n",
    "    cabin_df = pd.get_dummies( cabin_df['Cabin'] , prefix = 'Cabin' )\n",
    "    return cabin_df"
   ]
  },
  {
   "cell_type": "code",
   "execution_count": 14,
   "metadata": {},
   "outputs": [
    {
     "name": "stdout",
     "output_type": "stream",
     "text": [
      "   Cabin_A  Cabin_B  Cabin_C  Cabin_D  Cabin_E  Cabin_F  Cabin_G  Cabin_T  \\\n",
      "0        0        0        0        0        0        0        0        0   \n",
      "1        0        0        1        0        0        0        0        0   \n",
      "2        0        0        0        0        0        0        0        0   \n",
      "3        0        0        1        0        0        0        0        0   \n",
      "4        0        0        0        0        0        0        0        0   \n",
      "\n",
      "   Cabin_U  \n",
      "0        1  \n",
      "1        0  \n",
      "2        1  \n",
      "3        0  \n",
      "4        1  \n"
     ]
    }
   ],
   "source": [
    "print(filter_cabin(titanic).head())"
   ]
  },
  {
   "cell_type": "code",
   "execution_count": 15,
   "metadata": {},
   "outputs": [],
   "source": [
    "def cleanTicket( ticket ):\n",
    "    ticket = ticket.replace( '.' , '' )\n",
    "    ticket = ticket.replace( '/' , '' )\n",
    "    ticket = ticket.split()\n",
    "    ticket = map( lambda t : t.strip() , ticket )\n",
    "    ticket = list(filter( lambda t : not t.isdigit() , ticket ))\n",
    "    if len( ticket ) > 0:\n",
    "        return ticket[0]\n",
    "    else: \n",
    "        return 'XXX'\n",
    "\n",
    "def filter_ticket(df):\n",
    "    ticket_df = pd.DataFrame()\n",
    "\n",
    "    # Extracting dummy variables from tickets:\n",
    "    ticket_df[ 'Ticket' ] = df[ 'Ticket' ].map( cleanTicket )\n",
    "    ticket_df = pd.get_dummies( ticket_df[ 'Ticket' ] , prefix = 'Ticket' )\n",
    "    \n",
    "    return ticket_df"
   ]
  },
  {
   "cell_type": "code",
   "execution_count": 16,
   "metadata": {},
   "outputs": [
    {
     "name": "stdout",
     "output_type": "stream",
     "text": [
      "   Ticket_A4  Ticket_A5  Ticket_AS  Ticket_C  Ticket_CA  Ticket_CASOTON  \\\n",
      "0          0          1          0         0          0               0   \n",
      "1          0          0          0         0          0               0   \n",
      "2          0          0          0         0          0               0   \n",
      "3          0          0          0         0          0               0   \n",
      "4          0          0          0         0          0               0   \n",
      "\n",
      "   Ticket_FC  Ticket_FCC  Ticket_Fa  Ticket_LINE     ...      Ticket_SOPP  \\\n",
      "0          0           0          0            0     ...                0   \n",
      "1          0           0          0            0     ...                0   \n",
      "2          0           0          0            0     ...                0   \n",
      "3          0           0          0            0     ...                0   \n",
      "4          0           0          0            0     ...                0   \n",
      "\n",
      "   Ticket_SOTONO2  Ticket_SOTONOQ  Ticket_SP  Ticket_STONO  Ticket_STONO2  \\\n",
      "0               0               0          0             0              0   \n",
      "1               0               0          0             0              0   \n",
      "2               0               0          0             0              1   \n",
      "3               0               0          0             0              0   \n",
      "4               0               0          0             0              0   \n",
      "\n",
      "   Ticket_SWPP  Ticket_WC  Ticket_WEP  Ticket_XXX  \n",
      "0            0          0           0           0  \n",
      "1            0          0           0           0  \n",
      "2            0          0           0           0  \n",
      "3            0          0           0           1  \n",
      "4            0          0           0           1  \n",
      "\n",
      "[5 rows x 31 columns]\n"
     ]
    }
   ],
   "source": [
    "print(filter_ticket(titanic).head())"
   ]
  },
  {
   "cell_type": "code",
   "execution_count": 17,
   "metadata": {},
   "outputs": [],
   "source": [
    "def filter_family(df):\n",
    "    family_df = pd.DataFrame()\n",
    "\n",
    "    # introducing a new feature : the size of families (including the passenger)\n",
    "    family_df[ 'FamilySize' ] = df[ 'Parch' ] + df[ 'SibSp' ] + 1\n",
    "\n",
    "    # introducing other features based on the family size\n",
    "    family_df[ 'Family_Single' ] = family_df[ 'FamilySize' ].map( lambda s : 1 if s == 1 else 0 )\n",
    "    family_df[ 'Family_Small' ]  = family_df[ 'FamilySize' ].map( lambda s : 1 if 2 <= s <= 4 else 0 )\n",
    "    family_df[ 'Family_Large' ]  = family_df[ 'FamilySize' ].map( lambda s : 1 if 5 <= s else 0 )\n",
    "    return family_df"
   ]
  },
  {
   "cell_type": "code",
   "execution_count": 18,
   "metadata": {},
   "outputs": [
    {
     "name": "stdout",
     "output_type": "stream",
     "text": [
      "   FamilySize  Family_Single  Family_Small  Family_Large\n",
      "0           2              0             1             0\n",
      "1           2              0             1             0\n",
      "2           1              1             0             0\n",
      "3           2              0             1             0\n",
      "4           1              1             0             0\n"
     ]
    }
   ],
   "source": [
    "print(filter_family(titanic).head())"
   ]
  },
  {
   "cell_type": "code",
   "execution_count": 19,
   "metadata": {},
   "outputs": [],
   "source": [
    "def filter_survived(df):\n",
    "    df[ 'Survived' ].map( lambda s : 1 if s == 1 else 0 )"
   ]
  },
  {
   "cell_type": "code",
   "execution_count": 58,
   "metadata": {},
   "outputs": [],
   "source": [
    "# Now mash it all together into one big dataframe\n",
    "def format_data(df):\n",
    "    sex_series = filter_sex(df)\n",
    "    age_df = filter_age(df)\n",
    "    fare_df = filter_fare(df)\n",
    "    title_df = filter_title(df)\n",
    "    cabin_df = filter_cabin(df)\n",
    "    ticket_df = filter_ticket(df)\n",
    "    family_df = filter_family(df)\n",
    "    \n",
    "    x_data = pd.concat( [age_df, fare_df, title_df, cabin_df, ticket_df, family_df, sex_series ] , axis=1 )\n",
    "    if 'Survived' in df:\n",
    "        y_data = df.Survived\n",
    "    else:\n",
    "        y_data = None\n",
    "    return x_data, y_data"
   ]
  },
  {
   "cell_type": "code",
   "execution_count": 59,
   "metadata": {},
   "outputs": [
    {
     "name": "stdout",
     "output_type": "stream",
     "text": [
      "0    0\n",
      "1    1\n",
      "2    1\n",
      "3    1\n",
      "4    0\n",
      "Name: Survived, dtype: int64\n"
     ]
    }
   ],
   "source": [
    "print(format_data(titanic)[1].head())"
   ]
  },
  {
   "cell_type": "code",
   "execution_count": 60,
   "metadata": {},
   "outputs": [],
   "source": [
    "import tensorflow as tf\n",
    "\n",
    "data_x, data_y = format_data(titanic)\n",
    "train_x , test_x , train_y , test_y = train_test_split( data_x , data_y , train_size = .8 )\n",
    "\n",
    "learning_rate = 0.001\n",
    "epochs = 1000\n",
    "\n",
    "input_nodes = 53\n",
    "output_nodes = 1\n",
    "batch_size = 10\n",
    "\n",
    "x = tf.placeholder('float', [None, input_nodes])\n",
    "y = tf.placeholder('float', [None, output_nodes])\n",
    "\n",
    "hidden_1_nodes = 100\n",
    "\n",
    "hlw_1 = tf.Variable(tf.random_normal([input_nodes, hidden_1_nodes])) # The weights of the first hidden layer\n",
    "hlb_1 = tf.Variable(tf.random_normal([hidden_1_nodes])) # The biases of the first hidden layer\n",
    "\n",
    "outw = tf.Variable(tf.random_normal([hidden_1_nodes, output_nodes])) # The weights of the output layer\n",
    "outb = tf.Variable(tf.random_normal([output_nodes])) # The biases of the output layer"
   ]
  },
  {
   "cell_type": "code",
   "execution_count": 61,
   "metadata": {},
   "outputs": [],
   "source": [
    "def forward_propagation(x):\n",
    "    hlout_1 = tf.nn.sigmoid(tf.matmul(x, hlw_1) + hlb_1) # input multiplied by hidden layer 1 weights. Add bias. Apply sigmoid\n",
    "    output = tf.nn.sigmoid(tf.matmul(hlout_1, outw) + outb) # hidden layer 2 output multiplied by output layer weights. add bias. DON'T add sigmoid\n",
    "    return output"
   ]
  },
  {
   "cell_type": "code",
   "execution_count": 62,
   "metadata": {},
   "outputs": [],
   "source": [
    "def backward_propagation(y_, y, learning_rate):\n",
    "    cost = tf.reduce_mean( tf.nn.sigmoid_cross_entropy_with_logits(logits=y_, labels=y)) #Error/loss function. Cost is the total error over the batch\n",
    "    optimizer = tf.train.AdamOptimizer(learning_rate).minimize(cost) #Adam optimizer is a type of gradient descent. We want it to use the learning rate and minimize that cost\n",
    "    return optimizer, cost"
   ]
  },
  {
   "cell_type": "code",
   "execution_count": 63,
   "metadata": {},
   "outputs": [],
   "source": [
    "def calculate_accuracy(y_, y):\n",
    "    correct = tf.equal(tf.round(y_), tf.round(y)) # argmax finds the index of the largest value in a tensor. So we're comparing the two using tf.equal\n",
    "    accuracy = tf.reduce_mean(tf.cast(correct, 'float')) # We've got a tensor of true and false statements now. Let's find the average amount\n",
    "    return accuracy, correct"
   ]
  },
  {
   "cell_type": "code",
   "execution_count": 64,
   "metadata": {},
   "outputs": [],
   "source": [
    "y_ = forward_propagation(x)\n",
    "optimizer, cost = backward_propagation(y_, y, learning_rate)\n",
    "accuracy = calculate_accuracy(y_, y)"
   ]
  },
  {
   "cell_type": "code",
   "execution_count": null,
   "metadata": {},
   "outputs": [
    {
     "name": "stderr",
     "output_type": "stream",
     "text": [
      "/home/matthewlee/.local/lib/python3.5/site-packages/numpy/core/fromnumeric.py:57: FutureWarning: reshape is deprecated and will raise in a subsequent release. Please use .values.reshape(...) instead\n",
      "  return getattr(obj, method)(*args, **kwds)\n"
     ]
    },
    {
     "name": "stdout",
     "output_type": "stream",
     "text": [
      "Epoch 100 completed out of 1000 \n",
      "cost: 4474.04432097 \n",
      "training accuracy: 0.856742 \n",
      "\n",
      "Epoch 200 completed out of 1000 \n",
      "cost: 4276.47513393 \n",
      "training accuracy: 0.879214 \n",
      "\n",
      "Epoch 300 completed out of 1000 \n",
      "cost: 4222.00954205 \n",
      "training accuracy: 0.894663 \n",
      "\n",
      "Epoch 400 completed out of 1000 \n",
      "cost: 4191.18669003 \n",
      "training accuracy: 0.91573 \n",
      "\n",
      "Epoch 500 completed out of 1000 \n",
      "cost: 4172.57460147 \n",
      "training accuracy: 0.912921 \n",
      "\n",
      "Epoch 600 completed out of 1000 \n",
      "cost: 4159.51380223 \n",
      "training accuracy: 0.911517 \n",
      "\n",
      "Epoch 700 completed out of 1000 \n",
      "cost: 4147.29245582 \n",
      "training accuracy: 0.917135 \n",
      "\n",
      "Epoch 800 completed out of 1000 \n",
      "cost: 4135.77127883 \n",
      "training accuracy: 0.919944 \n",
      "\n",
      "Epoch 900 completed out of 1000 \n",
      "cost: 4128.69613525 \n",
      "training accuracy: 0.919944 \n",
      "\n"
     ]
    }
   ],
   "source": [
    "sess = tf.Session()\n",
    "sess.run(tf.global_variables_initializer())\n",
    "\n",
    "cost_per_epoch = [] \n",
    "accuracy_per_epoch = []\n",
    "\n",
    "# Loop over the dataset 'epochs' amount of times\n",
    "epoch_cost = 0\n",
    "for epoch in range(epochs):\n",
    "    # Go through the dataset in batches\n",
    "    for i in range(int(len(train_x)/batch_size)):\n",
    "        batch_x = train_x[i*batch_size:i*batch_size + batch_size]\n",
    "        batch_y = train_y[i*batch_size:i*batch_size + batch_size]\n",
    "        \n",
    "        batch_x = np.reshape(batch_x, [len(batch_x), input_nodes])\n",
    "        batch_y = np.reshape(batch_y, [len(batch_y), output_nodes])\n",
    "        \n",
    "        _, c = sess.run([optimizer, cost], feed_dict={x: batch_x, y: batch_y}) # Run our forward prop and backward prop over this batch of training data\n",
    "        epoch_cost += c\n",
    "    if (epoch != 0 and epoch % 100 == 0 or epoch == epochs):\n",
    "        # Test the accuracy of our model against the training set\n",
    "        epoch_accuracy, _ = sess.run(accuracy, feed_dict={x: np.reshape(train_x, [len(train_x), input_nodes]), y: np.reshape(train_y, [len(train_y), output_nodes])}) # Pass all the labels through to calculate accuracy\n",
    "        print('Epoch', epoch, 'completed out of', epochs, '\\ncost:', epoch_cost, '\\ntraining accuracy:', epoch_accuracy, '\\n')\n",
    "        # Store the results of this epoch so we can make nice graphs later\n",
    "        cost_per_epoch.append(epoch_cost)\n",
    "        accuracy_per_epoch.append(epoch_accuracy) \n",
    "        epoch_cost = 0"
   ]
  },
  {
   "cell_type": "code",
   "execution_count": null,
   "metadata": {},
   "outputs": [],
   "source": [
    "plt.plot(cost_per_epoch)\n",
    "plt.show()\n",
    "print(\"Cost each 100 iterations\")\n",
    "plt.plot(accuracy_per_epoch)\n",
    "plt.show()\n",
    "print(\"Accuracy each 100 iteration\")"
   ]
  },
  {
   "cell_type": "code",
   "execution_count": null,
   "metadata": {},
   "outputs": [],
   "source": [
    "(test_accuracy, test_correct_list), outputs = sess.run([accuracy, y_], feed_dict={x: np.reshape(test_x, [len(test_x), input_nodes]), y: np.reshape(test_y, [len(test_y), output_nodes])})\n",
    "print(\"training accuracy:\", accuracy_per_epoch[-1])\n",
    "print(\"testing accuracy:\", test_accuracy)"
   ]
  },
  {
   "cell_type": "code",
   "execution_count": null,
   "metadata": {},
   "outputs": [],
   "source": [
    "def predict_passenger_outcome(passengers):\n",
    "    \n",
    "    data, _ = format_data(passengers)\n",
    "    result = sess.run(y_, feed_dict={x: data[:].reshape(len(data, input_nodes))})\n",
    "    return result\n",
    "\n",
    "def setup_passenger(Pclass, Name, Sex, Age, SibSp, Parch, Ticket, Fare, Cabin, Embarked):\n",
    "    passenger = {\n",
    "        'Pclass':Pclass,\n",
    "        'Name':Name,\n",
    "        'Sex':Sex,\n",
    "        'Age':Age,\n",
    "        'SibSp':SibSp,\n",
    "        'Parch':Parch,\n",
    "        'Ticket':Ticket,\n",
    "        'Fare': Fare,\n",
    "        'Cabin': Cabin,\n",
    "        'Embarked':Embarked\n",
    "    }\n",
    "    return passenger"
   ]
  },
  {
   "cell_type": "code",
   "execution_count": null,
   "metadata": {},
   "outputs": [],
   "source": [
    "jack = setup_passenger(3, 'Braund, Mr. Owen Harris', 'male', 22.0, 1, 0, 'A/5 21171', 7.2500, 'NaN', 'S')\n",
    "rose = setup_passenger(3, 'Braund, Mr. Owen Harris', 'female', 22.0, 1, 0, 'A/5 21171', 7.2500, 'NaN', 'S')\n",
    "\n",
    "passengers = pd.DataFrame()\n",
    "passengers.append(jack)\n",
    "passengers.append(rose)\n",
    "\n",
    "print(predict_passenger_outcome(passengers))\n"
   ]
  },
  {
   "cell_type": "code",
   "execution_count": null,
   "metadata": {},
   "outputs": [],
   "source": []
  }
 ],
 "metadata": {
  "kernelspec": {
   "display_name": "Python 3",
   "language": "python",
   "name": "python3"
  },
  "language_info": {
   "codemirror_mode": {
    "name": "ipython",
    "version": 3
   },
   "file_extension": ".py",
   "mimetype": "text/x-python",
   "name": "python",
   "nbconvert_exporter": "python",
   "pygments_lexer": "ipython3",
   "version": "3.5.2"
  }
 },
 "nbformat": 4,
 "nbformat_minor": 2
}
