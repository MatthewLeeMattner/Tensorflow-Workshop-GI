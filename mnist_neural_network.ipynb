{
 "cells": [
  {
   "cell_type": "markdown",
   "metadata": {},
   "source": [
    "# Machine Learning Workshop\n",
    "## By Matthew Lee and Matthew Bourgeois"
   ]
  },
  {
   "cell_type": "markdown",
   "metadata": {},
   "source": [
    "#### First up, you'll need to install Python 3\n",
    "\n",
    "On windows you can find the latest version here (make sure you get the 64bit version) https://www.python.org/downloads/\n",
    "\n",
    "On linux follow this tutorial http://docs.python-guide.org/en/latest/starting/install3/linux/\n",
    "\n",
    "On mac, this tutorial  https://docs.python.org/3/using/mac.html\n",
    "\n",
    "#### Now, install Tensorflow\n",
    "TODO\n",
    "\n",
    "#### Lastly, install matplotlib so that we can graph our results\n",
    "TODO"
   ]
  },
  {
   "cell_type": "code",
   "execution_count": 16,
   "metadata": {
    "scrolled": true
   },
   "outputs": [
    {
     "name": "stdout",
     "output_type": "stream",
     "text": [
      "Extracting MNIST_data/train-images-idx3-ubyte.gz\n",
      "Extracting MNIST_data/train-labels-idx1-ubyte.gz\n",
      "Extracting MNIST_data/t10k-images-idx3-ubyte.gz\n",
      "Extracting MNIST_data/t10k-labels-idx1-ubyte.gz\n"
     ]
    }
   ],
   "source": [
    "import matplotlib.pyplot as plt\n",
    "import tensorflow as tf\n",
    "from tensorflow.examples.tutorials.mnist import input_data\n",
    "mnist = input_data.read_data_sets(\"MNIST_data/\", one_hot=True)"
   ]
  },
  {
   "cell_type": "code",
   "execution_count": 17,
   "metadata": {},
   "outputs": [],
   "source": [
    "learning_rate = 0.002\n",
    "epochs = 10\n",
    "batch_size = 124"
   ]
  },
  {
   "cell_type": "code",
   "execution_count": 18,
   "metadata": {},
   "outputs": [],
   "source": [
    "input_nodes = 784 # 28 by 28 pixel image flattened to 784 pixels\n",
    "hidden_1_nodes = 150\n",
    "hidden_2_nodes = 80\n",
    "output_nodes = 10 # Number of classes (0-9)"
   ]
  },
  {
   "cell_type": "code",
   "execution_count": 19,
   "metadata": {},
   "outputs": [],
   "source": [
    "x = tf.placeholder('float', [None, input_nodes])\n",
    "y = tf.placeholder('float', [None, output_nodes])\n",
    "\n",
    "hlw_1 = tf.Variable(tf.random_normal([input_nodes, hidden_1_nodes]))\n",
    "hlb_1 = tf.Variable(tf.random_normal([hidden_1_nodes]))\n",
    "\n",
    "hlw_2 = tf.Variable(tf.random_normal([hidden_1_nodes, hidden_2_nodes]))\n",
    "hlb_2 = tf.Variable(tf.random_normal([hidden_2_nodes]))\n",
    "\n",
    "outw = tf.Variable(tf.random_normal([hidden_2_nodes, output_nodes]))\n",
    "outb = tf.Variable(tf.random_normal([output_nodes]))"
   ]
  },
  {
   "cell_type": "code",
   "execution_count": 20,
   "metadata": {},
   "outputs": [],
   "source": [
    "def forward_propagation(x):\n",
    "    hlout_1 = tf.nn.sigmoid(tf.matmul(x, hlw_1) + hlb_1)\n",
    "    hlout_2 = tf.nn.sigmoid(tf.matmul(hlout_1, hlw_2) + hlb_2)\n",
    "    output = tf.matmul(hlout_2, outw) + outb\n",
    "    return output"
   ]
  },
  {
   "cell_type": "code",
   "execution_count": 21,
   "metadata": {},
   "outputs": [],
   "source": [
    "def backward_propagation(y_, y, learning_rate):\n",
    "    cost = tf.reduce_mean( tf.nn.softmax_cross_entropy_with_logits(logits=y_, labels=y) )\n",
    "    optimizer = tf.train.AdamOptimizer(learning_rate).minimize(cost)\n",
    "    return optimizer, cost"
   ]
  },
  {
   "cell_type": "code",
   "execution_count": 22,
   "metadata": {},
   "outputs": [],
   "source": [
    "def calculate_accuracy(y_, y):\n",
    "    correct = tf.equal(tf.argmax(y_, 1), tf.argmax(y, 1))\n",
    "    accuracy = tf.reduce_mean(tf.cast(correct, 'float'))\n",
    "    return accuracy"
   ]
  },
  {
   "cell_type": "code",
   "execution_count": 23,
   "metadata": {},
   "outputs": [],
   "source": [
    "y_ = forward_propagation(x)\n",
    "optimizer, cost = backward_propagation(y_, y, learning_rate)\n",
    "accuracy = calculate_accuracy(y_, y)"
   ]
  },
  {
   "cell_type": "code",
   "execution_count": 24,
   "metadata": {},
   "outputs": [],
   "source": [
    "sess = tf.Session()\n",
    "sess.run(tf.global_variables_initializer())"
   ]
  },
  {
   "cell_type": "code",
   "execution_count": 25,
   "metadata": {},
   "outputs": [
    {
     "name": "stdout",
     "output_type": "stream",
     "text": [
      "Epoch 1 completed out of 10 \n",
      "cost: 562.025637358 \n",
      "training accuracy: 0.855218 \n",
      "\n",
      "Epoch 2 completed out of 10 \n",
      "cost: 172.923060298 \n",
      "training accuracy: 0.9098 \n",
      "\n",
      "Epoch 3 completed out of 10 \n",
      "cost: 122.834648579 \n",
      "training accuracy: 0.932873 \n",
      "\n",
      "Epoch 4 completed out of 10 \n",
      "cost: 95.7957450151 \n",
      "training accuracy: 0.946818 \n",
      "\n",
      "Epoch 5 completed out of 10 \n",
      "cost: 78.009485241 \n",
      "training accuracy: 0.955545 \n",
      "\n",
      "Epoch 6 completed out of 10 \n",
      "cost: 64.4723437242 \n",
      "training accuracy: 0.964927 \n",
      "\n",
      "Epoch 7 completed out of 10 \n",
      "cost: 53.718372345 \n",
      "training accuracy: 0.971927 \n",
      "\n",
      "Epoch 8 completed out of 10 \n",
      "cost: 45.9608743582 \n",
      "training accuracy: 0.976309 \n",
      "\n",
      "Epoch 9 completed out of 10 \n",
      "cost: 38.8488556966 \n",
      "training accuracy: 0.981927 \n",
      "\n",
      "Epoch 10 completed out of 10 \n",
      "cost: 33.055221105 \n",
      "training accuracy: 0.985364 \n",
      "\n"
     ]
    }
   ],
   "source": [
    "cost_per_epoch = []\n",
    "accuracy_per_epoch = []\n",
    "for epoch in range(epochs):\n",
    "    epoch_cost = 0\n",
    "    for _ in range(int(mnist.train.num_examples/batch_size)):\n",
    "        train_x, train_y = mnist.train.next_batch(batch_size)\n",
    "        _, c = sess.run([optimizer, cost], feed_dict={x: train_x, y: train_y})\n",
    "        epoch_cost += c\n",
    "    epoch_accuracy = sess.run(accuracy, feed_dict={x: mnist.train.images, y: mnist.train.labels})\n",
    "    print('Epoch', epoch + 1, 'completed out of', epochs, '\\ncost:', epoch_cost, '\\ntraining accuracy:', epoch_accuracy, '\\n')\n",
    "    cost_per_epoch.append(epoch_cost)\n",
    "    accuracy_per_epoch.append(epoch_accuracy)"
   ]
  },
  {
   "cell_type": "code",
   "execution_count": 26,
   "metadata": {},
   "outputs": [
    {
     "data": {
      "image/png": "[encoded data removed]",
      "text/plain": [
       "<matplotlib.figure.Figure at 0x1f93772ab38>"
      ]
     },
     "metadata": {},
     "output_type": "display_data"
    },
    {
     "data": {
      "image/png": "[encoded data removed]",
      "text/plain": [
       "<matplotlib.figure.Figure at 0x1f93bb658d0>"
      ]
     },
     "metadata": {},
     "output_type": "display_data"
    }
   ],
   "source": [
    "plt.plot(cost_per_epoch)\n",
    "plt.show()\n",
    "plt.plot(accuracy_per_epoch)\n",
    "plt.show()"
   ]
  },
  {
   "cell_type": "code",
   "execution_count": 27,
   "metadata": {},
   "outputs": [
    {
     "name": "stdout",
     "output_type": "stream",
     "text": [
      "training accuracy: 0.985364\n",
      "testing accuracy: 0.9474\n"
     ]
    }
   ],
   "source": [
    "test_accuracy = sess.run(accuracy, feed_dict={x: mnist.test.images, y: mnist.test.labels})\n",
    "print(\"training accuracy:\", accuracy_per_epoch[-1])\n",
    "print(\"testing accuracy:\", test_accuracy)"
   ]
  }
 ],
 "metadata": {
  "kernelspec": {
   "display_name": "Python 3",
   "language": "python",
   "name": "python3"
  },
  "language_info": {
   "codemirror_mode": {
    "name": "ipython",
    "version": 3
   },
   "file_extension": ".py",
   "mimetype": "text/x-python",
   "name": "python",
   "nbconvert_exporter": "python",
   "pygments_lexer": "ipython3",
   "version": "3.5.2"
  }
 },
 "nbformat": 4,
 "nbformat_minor": 2
}
