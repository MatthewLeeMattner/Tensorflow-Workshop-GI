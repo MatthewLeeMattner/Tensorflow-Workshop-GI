{
 "cells": [
  {
   "cell_type": "markdown",
   "metadata": {},
   "source": [
    "# Fashion-MNIST\n",
    "\n",
    "You've seen how a neural network can be applied to hand written digit recognition. Let's see if we can try that same technique on a more complex dataset: recognizing items of clothing.\n",
    "\n",
    "This dataset is in the exact same format as the digit classification dataset."
   ]
  },
  {
   "cell_type": "code",
   "execution_count": 3,
   "metadata": {},
   "outputs": [
    {
     "name": "stdout",
     "output_type": "stream",
     "text": [
      "Extracting data/fashion/train-images-idx3-ubyte.gz\n",
      "Extracting data/fashion/train-labels-idx1-ubyte.gz\n",
      "Extracting data/fashion/t10k-images-idx3-ubyte.gz\n",
      "Extracting data/fashion/t10k-labels-idx1-ubyte.gz\n"
     ]
    }
   ],
   "source": [
    "import matplotlib.pyplot as plt\n",
    "import numpy as np\n",
    "from tensorflow.examples.tutorials.mnist import input_data\n",
    "\n",
    "mnist = input_data.read_data_sets('data/fashion')"
   ]
  },
  {
   "cell_type": "markdown",
   "metadata": {},
   "source": [
    "## See an example by running the code below"
   ]
  },
  {
   "cell_type": "code",
   "execution_count": 9,
   "metadata": {},
   "outputs": [
    {
     "data": {
      "image/png": "[encoded data removed]",
      "text/plain": [
       "<matplotlib.figure.Figure at 0x7efef2aee470>"
      ]
     },
     "metadata": {},
     "output_type": "display_data"
    },
    {
     "name": "stdout",
     "output_type": "stream",
     "text": [
      "T-shirt/top\n"
     ]
    }
   ],
   "source": [
    "example_index = 200 # Change this value to see an example\n",
    "\n",
    "text_labels = ['T-shirt/top', \n",
    "              'Trouser', \n",
    "              'Pullover', \n",
    "              'Dress', \n",
    "              'Coat', \n",
    "              'Sandal', \n",
    "              'Shirt', \n",
    "              'Sneaker',\n",
    "              'Bag',\n",
    "              'Ankle boot']\n",
    "\n",
    "example_image = mnist.train.images[example_index]\n",
    "example_label = mnist.train.labels[example_index]\n",
    "example_image = example_image.reshape([28, 28]);\n",
    "plt.imshow(example_image, cmap='gray_r')\n",
    "plt.show()\n",
    "print(text_labels[example_label])"
   ]
  },
  {
   "cell_type": "markdown",
   "metadata": {},
   "source": [
    "## Okay, you've got everything you need. Have a go at implementing it!"
   ]
  },
  {
   "cell_type": "code",
   "execution_count": 1,
   "metadata": {},
   "outputs": [],
   "source": [
    "# Put your code below\n"
   ]
  }
 ],
 "metadata": {
  "kernelspec": {
   "display_name": "Python 3",
   "language": "python",
   "name": "python3"
  },
  "language_info": {
   "codemirror_mode": {
    "name": "ipython",
    "version": 3
   },
   "file_extension": ".py",
   "mimetype": "text/x-python",
   "name": "python",
   "nbconvert_exporter": "python",
   "pygments_lexer": "ipython3",
   "version": "3.5.2"
  }
 },
 "nbformat": 4,
 "nbformat_minor": 2
}
